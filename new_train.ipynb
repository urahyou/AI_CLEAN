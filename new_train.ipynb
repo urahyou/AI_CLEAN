{
 "cells": [
  {
   "cell_type": "code",
   "execution_count": 1,
   "id": "876d91fb",
   "metadata": {},
   "outputs": [
    {
     "name": "stdout",
     "output_type": "stream",
     "text": [
      "Warning: No NFFT installed!\n"
     ]
    },
    {
     "name": "stderr",
     "output_type": "stream",
     "text": [
      "/home/zhouxinghui/.local/lib/python3.9/site-packages/networkx/utils/backends.py:135: RuntimeWarning: networkx backend defined more than once: nx-loopback\n",
      "  backends.update(_get_backends(\"networkx.backends\"))\n"
     ]
    },
    {
     "name": "stdout",
     "output_type": "stream",
     "text": [
      "Welcome to eht-imaging! v 1.2.10 \n",
      "\n"
     ]
    }
   ],
   "source": [
    "from mydata import GalaxyDataset\n",
    "from torch.utils.data import DataLoader\n",
    "import matplotlib.pyplot as plt\n",
    "from model import UNet\n",
    "import pickle\n",
    "import torch.utils.data as data\n",
    "import random\n",
    "from skimage.metrics import structural_similarity as ssim\n",
    "from sklearn.metrics import mean_squared_error as mse\n",
    "import matplotlib.pyplot as plt\n",
    "import torch\n",
    "import torch.nn as nn\n",
    "import torch.optim as optim\n",
    "import numpy as np\n",
    "from tqdm import tqdm\n",
    "import os\n",
    "import shutil\n",
    "from torchmetrics.image import StructuralSimilarityIndexMeasure\n",
    "from torch.utils.data import random_split"
   ]
  },
  {
   "cell_type": "code",
   "execution_count": 2,
   "id": "b92098e5",
   "metadata": {},
   "outputs": [
    {
     "data": {
      "image/png": "[encoded data removed]",
      "text/plain": [
       "<Figure size 640x480 with 1 Axes>"
      ]
     },
     "metadata": {},
     "output_type": "display_data"
    }
   ],
   "source": [
    "# 设置尺度参数\n",
    "scale = 0.1  # θ\n",
    "\n",
    "# 不同的形状参数\n",
    "shapes = [1.0]\n",
    "\n",
    "# 生成并绘制不同形状参数下的伽马分布\n",
    "for shape in shapes:\n",
    "    random_numbers = np.random.gamma(shape, scale, size=1000)\n",
    "    plt.hist(random_numbers, bins=30, density=True, alpha=0.6, label=f\"shape={shape}\")\n",
    "\n",
    "plt.title(\"Gamma Distributions with Different Shapes (scale=2.0)\")\n",
    "plt.xlabel(\"Value\")\n",
    "plt.ylabel(\"Density\")\n",
    "plt.legend()\n",
    "plt.show()"
   ]
  },
  {
   "cell_type": "code",
   "execution_count": 3,
   "id": "87664bcc",
   "metadata": {},
   "outputs": [
    {
     "name": "stdout",
     "output_type": "stream",
     "text": [
      "--loading h5 file for eht sparse and dense {u,v,vis_re,vis_im} dataset...\n",
      "Done--\n",
      "--loading h5 file for Galaxy10 dataset...\n",
      "Done--\n",
      "正在从 /home/zhouxinghui/git/VIC-DDPM-modified/data/target_data.h5 加载目标数据...\n",
      "目标数据加载完成。\n"
     ]
    }
   ],
   "source": [
    "data_root = '/home/zhouxinghui/git/VIC-DDPM-modified/data'\n",
    "data_path = f'{data_root}/eht_grid_128FC_200im_Galaxy10_DECals_full.h5'\n",
    "img_path = f'{data_root}/Galaxy10_DECals.h5'\n",
    "target_path = f'{data_root}/target_data.h5'\n",
    "shape = 1.0\n",
    "scale = 0.06\n",
    "# 创建数据集实例，指定噪声水平范围\n",
    "dataset = GalaxyDataset(data_path, img_path, target_path, shape=shape, scale=scale)\n",
    "\n",
    "# 创建 DataLoader\n",
    "# dataloader = DataLoader(dataset, batch_size=70, shuffle=True)"
   ]
  },
  {
   "cell_type": "code",
   "execution_count": 4,
   "id": "a2a1a69d",
   "metadata": {},
   "outputs": [],
   "source": [
    "def minmax(img):\n",
    "    img = (img - img.min()) / (img.max() - img.min())\n",
    "    return img\n",
    "\n",
    "def plot_compare(img_dir, img_recon, img_true, exp_name, title, noise_level):\n",
    "    img_dir = minmax(img_dir)\n",
    "    img_recon = minmax(img_recon)\n",
    "    img_true = minmax(img_true)\n",
    "    \n",
    "    # 计算残图\n",
    "    img_diff = img_recon - img_true\n",
    "    # img_diff = minmax(img_diff)  # 归一化残图\n",
    "\n",
    "    fig, axes = plt.subplots(nrows=1, ncols=4, figsize=(14, 4),\n",
    "                             sharex=True, sharey=True)\n",
    "    ax = axes.ravel()\n",
    "\n",
    "    ssim_true = ssim(img_true, img_true, data_range=1.0)\n",
    "    ssim_dir = ssim(img_true, img_dir, data_range=1.0)\n",
    "    ssim_recon = ssim(img_true, img_recon, data_range=1.0)\n",
    "    ssim_diff = ssim(img_true, img_diff, data_range=1.0)  # 计算残图的 SSIM\n",
    "\n",
    "    mse_true = mse(img_true, img_true)\n",
    "    mse_dir = mse(img_true, img_dir)\n",
    "    mse_recon = mse(img_true, img_recon)\n",
    "    mse_diff = mse(img_true, img_diff)  # 计算残图的 MSE\n",
    "\n",
    "    # 添加颜色条\n",
    "    im0 = ax[0].imshow(img_true, cmap='jet')\n",
    "    ax[0].set_xlabel(f'SSIM: {ssim_true:.2f}\\n MSE:{mse_true:.5f}')\n",
    "    ax[0].set_title('GT')\n",
    "    fig.colorbar(im0, ax=ax[0], fraction=0.046, pad=0.04)\n",
    "\n",
    "    im1 = ax[1].imshow(img_dir, cmap='jet')\n",
    "    ax[1].set_xlabel(f'SSIM: {ssim_dir:.2f} \\n MSE:{mse_dir:.5f} \\n Noise: {noise_level:.2f}')\n",
    "    ax[1].set_title('DIRTY IMAGE')\n",
    "    fig.colorbar(im1, ax=ax[1], fraction=0.046, pad=0.04)\n",
    "\n",
    "    im2 = ax[2].imshow(img_recon, cmap='jet')\n",
    "    ax[2].set_xlabel(f'SSIM: {ssim_recon:.2f} \\n MSE:{mse_recon:.5f}')\n",
    "    ax[2].set_title('RECON IMAGE')\n",
    "    fig.colorbar(im2, ax=ax[2], fraction=0.046, pad=0.04)\n",
    "\n",
    "    im3 = ax[3].imshow(img_diff, cmap='jet')\n",
    "    ax[3].set_xlabel(f'SSIM: {ssim_diff:.2f} \\n MSE:{mse_diff:.5f}')\n",
    "    ax[3].set_title('RECON - TARGET')\n",
    "    fig.colorbar(im3, ax=ax[3], fraction=0.046, pad=0.04)\n",
    "\n",
    "    plt.suptitle(title)\n",
    "    plt.savefig(f'results/{exp_name}/{title}')\n",
    "    plt.close()\n",
    "    return ssim_recon"
   ]
  },
  {
   "cell_type": "code",
   "execution_count": 5,
   "id": "b03a7cc0",
   "metadata": {},
   "outputs": [],
   "source": [
    "train_radio = 0.7\n",
    "test_ratio = 0.3\n",
    "\n",
    "total_size = len(dataset)\n",
    "train_size = int(total_size * train_radio)\n",
    "test_size = total_size - train_size\n",
    "\n",
    "train_dataset, test_dataset = random_split(dataset, [train_size, test_size])\n",
    "train_loader = DataLoader(train_dataset, batch_size=800, shuffle=True, num_workers=32)\n",
    "test_loader = DataLoader(test_dataset, batch_size=800, shuffle=False, num_workers=32)"
   ]
  },
  {
   "cell_type": "code",
   "execution_count": 6,
   "id": "6d7383e2",
   "metadata": {},
   "outputs": [
    {
     "data": {
      "text/plain": [
       "(12415, 5321)"
      ]
     },
     "execution_count": 6,
     "metadata": {},
     "output_type": "execute_result"
    }
   ],
   "source": [
    "train_size, test_size"
   ]
  },
  {
   "cell_type": "code",
   "execution_count": 7,
   "id": "fc8db6bd",
   "metadata": {},
   "outputs": [],
   "source": [
    "dirty, target, noise_level = next(iter(train_loader))"
   ]
  },
  {
   "cell_type": "code",
   "execution_count": 8,
   "id": "43257914",
   "metadata": {},
   "outputs": [
    {
     "data": {
      "text/plain": [
       "tensor(0.1384, dtype=torch.float64)"
      ]
     },
     "execution_count": 8,
     "metadata": {},
     "output_type": "execute_result"
    }
   ],
   "source": [
    "noise_level[0]"
   ]
  },
  {
   "cell_type": "code",
   "execution_count": 9,
   "id": "a75b15e6",
   "metadata": {},
   "outputs": [],
   "source": [
    "class SSIMLoss(nn.Module):\n",
    "    def __init__(self, data_range=1.0, device=None):\n",
    "        \"\"\"\n",
    "        初始化SSIM损失函数\n",
    "        :param data_range: 数据范围，默认为1.0，表示输入数据的范围是[0, 1]\n",
    "        :param device: 指定设备（例如 'cuda' 或 'cpu'）\n",
    "        \"\"\"\n",
    "        super(SSIMLoss, self).__init__()\n",
    "        self.ssim = StructuralSimilarityIndexMeasure(data_range=data_range).to(device)\n",
    "\n",
    "    def forward(self, pred, target):\n",
    "        \"\"\"\n",
    "        前向传播，计算SSIM损失\n",
    "        :param pred: 预测图像，形状为 [batch_size, 1, H, W]\n",
    "        :param target: 目标图像，形状为 [batch_size, 1, H, W]\n",
    "        :return: SSIM损失值\n",
    "        \"\"\"\n",
    "        # 归一化预测图像和目标图像到 [0, 1] 范围\n",
    "        pred_normalized = self.normalize(pred)\n",
    "        target_normalized = self.normalize(target)\n",
    "\n",
    "        # 计算SSIM值\n",
    "        ssim_value = self.ssim(pred_normalized, target_normalized)\n",
    "        loss = 1 - ssim_value  # 将SSIM值转换为损失值\n",
    "        return loss\n",
    "\n",
    "    @staticmethod\n",
    "    def normalize(image):\n",
    "        \"\"\"\n",
    "        将图像归一化到 [0, 1] 范围\n",
    "        :param image: 输入图像，形状为 [batch_size, 1, H, W]\n",
    "        :return: 归一化后的图像\n",
    "        \"\"\"\n",
    "        min_value = image.min(dim=-1, keepdim=True)[0].min(dim=-2, keepdim=True)[0]\n",
    "        max_value = image.max(dim=-1, keepdim=True)[0].max(dim=-2, keepdim=True)[0]\n",
    "        normalized_image = (image - min_value) / (max_value - min_value + 1e-9)\n",
    "        return normalized_image\n",
    "        \n",
    "\n",
    "    \n",
    "class TotalLoss(nn.Module):\n",
    "    def __init__(self, alpha=0.1, beta=0.1,  data_range=1.0, device=None):\n",
    "        \"\"\"\n",
    "        初始化复合损失函数\n",
    "        :param alpha: SSIM损失的权重，MSE损失的权重为 (1 - alpha)\n",
    "        :param data_range: 数据范围，默认为1.0，表示输入数据的范围是[0, 1]\n",
    "        :param device: 指定设备（例如 'cuda' 或 'cpu'）\n",
    "        \"\"\"\n",
    "        super(TotalLoss, self).__init__()\n",
    "        self.alpha = alpha\n",
    "        self.beta = beta\n",
    "        self.ssim_loss = SSIMLoss(data_range=data_range, device=device)\n",
    "        self.mse_loss = nn.MSELoss()\n",
    "        self.L1_loss = nn.L1Loss()\n",
    "\n",
    "    def forward(self, pred, target):\n",
    "        \"\"\"\n",
    "        前向传播，计算复合损失\n",
    "        :param pred: 预测图像，形状为 [batch_size, 1, H, W]\n",
    "        :param target: 目标图像，形状为 [batch_size, 1, H, W]\n",
    "        :return: 复合损失值\n",
    "        \"\"\"\n",
    "        ssim_loss_value = self.ssim_loss(pred, target)\n",
    "        mse_loss_value = self.mse_loss(pred, target) \n",
    "        l1_loss_value = self.L1_loss(pred, target)\n",
    "        # spectral_loss_value = self.spectral_loss(pred, target)\n",
    "        # grad_loss_value = gradient_loss(pred) * 0.1\n",
    "        # 组合损失\n",
    "        total_loss = mse_loss_value +  self.beta * l1_loss_value + self.alpha * ssim_loss_value\n",
    "        # print(f\"SSIM Loss: {ssim_loss_value.item()}, MSE Loss: {mse_loss_value.item()}\")\n",
    "        # print(f\"SSIM Loss: {ssim_loss_value.item()}, MSE Loss: {mse_loss_value.item()}, Spectral Loss: {spectral_loss_value.item()}\")\n",
    "        return total_loss"
   ]
  },
  {
   "cell_type": "code",
   "execution_count": 10,
   "id": "1f84c47f",
   "metadata": {},
   "outputs": [
    {
     "name": "stdout",
     "output_type": "stream",
     "text": [
      "文件夹 results/new_train-shape=1.0-scale=0.06 不存在，正在创建...\n",
      "文件夹 results/new_train-shape=1.0-scale=0.06 已创建。\n"
     ]
    },
    {
     "name": "stderr",
     "output_type": "stream",
     "text": [
      "100%|██████████| 150/150 [3:14:48<00:00, 77.92s/it]  \n"
     ]
    }
   ],
   "source": [
    "device_ids = [0, 1, 2, 3, 4, 5, 6, 7] # 可用GPU\n",
    "unet = UNet(1, 1)\n",
    "unet = torch.nn.DataParallel(unet, device_ids=device_ids)\n",
    "unet = unet.cuda(device=device_ids[0])\n",
    "# device = torch.device(\"cuda:1\")\n",
    "\n",
    "# 这里有一个训练上面的trick，学习速率从1e-3到1e-4会比较好一点\n",
    "LR = 5e-4\n",
    "lr_str = '5e-4'\n",
    "epochs = 150\n",
    "\n",
    "alpha=0.01\n",
    "beta = 0.5\n",
    "\n",
    "\n",
    "# exp_name = f'experiment_lr={LR}-epochs={epochs}-shape={shape}-scale={scale}-ssim-{alpha}-l1-{beta}'\n",
    "# exp_name = f'experiment_lr={lr_str}-epochs={epochs}-shape={shape}-scale={scale}-ssim-{alpha}-l1-{beta}-vis-noisy3-ftloss'\n",
    "# exp_name = f'experiment_lr={lr_str}-epochs={epochs}-shape={shape}-scale={scale}-real-{alpha}-imagine-{beta}-vis-noisy3-ftloss'\n",
    "exp_name = f'new_train-shape={shape}-scale={scale}'\n",
    "\n",
    "optimizer = torch.optim.Adam(unet.parameters(), lr=LR)\n",
    "\n",
    "# loss_func = nn.MSELoss()\n",
    "loss_func = TotalLoss(alpha=alpha, beta=beta, device=device_ids[0])\n",
    "# loss_func = FourierMSELoss(alpha=alpha, beta=beta, device=device_ids[0])\n",
    "# loss_func = GradientConsistencyLoss()\n",
    "# loss_func = custom_loss_function4\n",
    "\n",
    "# unet = unet.to(device)\n",
    "train_loss_list = []\n",
    "test_loss_list = []\n",
    "\n",
    "folder_path = f'results/{exp_name}'\n",
    "if os.path.exists(folder_path):\n",
    "    print(f\"文件夹 {folder_path} 已存在，正在删除...\")\n",
    "    shutil.rmtree(folder_path)  # 删除整个文件夹\n",
    "    print(f\"文件夹 {folder_path} 已删除。\")\n",
    "    os.makedirs(folder_path)  # 创建文件夹\n",
    "    print(f\"文件夹 {folder_path} 已创建。\")\n",
    "else:\n",
    "    print(f\"文件夹 {folder_path} 不存在，正在创建...\")\n",
    "    os.makedirs(folder_path)  # 创建文件夹\n",
    "    print(f\"文件夹 {folder_path} 已创建。\")\n",
    "        \n",
    "        \n",
    "for i in tqdm(range(epochs)):\n",
    "    \n",
    "    train_loss_a = []\n",
    "    test_loss_a = []\n",
    "    \n",
    "    # train process\n",
    "    for x, y, noise_level in train_loader:\n",
    "        # x = a['x'].unsqueeze(1)\n",
    "        # y = a['y'].unsqueeze(1)\n",
    "       \n",
    "       \n",
    "        x = x.to(device_ids[0])\n",
    "        y = y.to(device_ids[0])\n",
    "        y_hat = unet(x)\n",
    "        # loss = loss_func(l_r, y_r, weight_map) + loss_func(l_i, y_i, weight_map)\n",
    "        loss = loss_func(y, y_hat)\n",
    "        optimizer.zero_grad()\n",
    "        loss.backward()\n",
    "        optimizer.step()\n",
    "        train_loss_a.append(loss.item())\n",
    "        # print(loss.item())\n",
    "\n",
    "        img_dir = x.detach().cpu().numpy()[0,0]\n",
    "        img_true = y.detach().cpu().numpy()[0,0]\n",
    "        img_recon = y_hat.detach().cpu().numpy()[0,0]\n",
    "    try:    \n",
    "        plot_compare(img_dir, img_recon, img_true, exp_name, f'TRAIN RECON_{i}', noise_level[0])\n",
    "    except:\n",
    "        print('error')\n",
    "    \n",
    "    # test process\n",
    "    with torch.no_grad():\n",
    "        for x,y,noise_level in test_loader:\n",
    "            # x = a['x'].unsqueeze(1)\n",
    "            # y = a['y'].unsqueeze(1)\n",
    "            # x = torch.tensor(x, dtype=torch.float32)\n",
    "            # y = torch.tensor(y, dtype=torch.float32)\n",
    "            x = x.to(device_ids[0])\n",
    "            y = y.to(device_ids[0])\n",
    "            y_hat = unet(x)\n",
    "            loss = loss_func(y, y_hat)\n",
    "            test_loss_a.append(loss.item())\n",
    "            img_dir = x.detach().cpu().numpy()[0,0]\n",
    "            img_true = y.detach().cpu().numpy()[0,0]\n",
    "            img_recon = y_hat.detach().cpu().numpy()[0,0]\n",
    "        plot_compare(img_dir, img_recon, img_true, exp_name, f'TEST RECON_{i}', noise_level[0])\n",
    "                    \n",
    "    train_loss_list.append(np.mean(train_loss_a))\n",
    "    test_loss_list.append(np.mean(test_loss_a))"
   ]
  },
  {
   "cell_type": "code",
   "execution_count": 11,
   "id": "8bda5344",
   "metadata": {},
   "outputs": [],
   "source": [
    "with open(f\"{exp_name}_train_loss.pkl\", \"wb\") as file:\n",
    "    pickle.dump(train_loss_list, file)\n",
    "    \n",
    "with open(f\"{exp_name}_test_loss.pkl\", \"wb\") as file:\n",
    "    pickle.dump(test_loss_list, file)"
   ]
  },
  {
   "cell_type": "code",
   "execution_count": 12,
   "id": "fffbf81f",
   "metadata": {},
   "outputs": [],
   "source": [
    "train_loss_list = pickle.load(open(f'{exp_name}_train_loss.pkl', 'rb'))\n",
    "test_loss_list = pickle.load(open(f'{exp_name}_test_loss.pkl', 'rb'))"
   ]
  },
  {
   "cell_type": "code",
   "execution_count": 13,
   "id": "60b76c2b",
   "metadata": {},
   "outputs": [
    {
     "data": {
      "image/png": "[encoded data removed]",
      "text/plain": [
       "<Figure size 640x480 with 1 Axes>"
      ]
     },
     "metadata": {},
     "output_type": "display_data"
    }
   ],
   "source": [
    "plt.plot(train_loss_list, label='Training Loss')\n",
    "plt.plot(test_loss_list, label='Testing Loss')\n",
    "plt.yscale('log')\n",
    "plt.legend(fontsize='large')  # 设置图例标签的字体大小\n",
    "plt.xlabel('Epochs', fontsize='large')  # 设置x轴标签的字体大小\n",
    "plt.ylabel('Loss', fontsize='large')  # 设置y轴标签的字体大小\n",
    "plt.savefig('loss.png', dpi=400)\n",
    "plt.show()"
   ]
  },
  {
   "cell_type": "code",
   "execution_count": 14,
   "id": "8960d6e5",
   "metadata": {},
   "outputs": [],
   "source": [
    "f_name = f'./{exp_name}.pt'\n",
    "torch.save(unet.state_dict(), f_name)"
   ]
  },
  {
   "cell_type": "code",
   "execution_count": 15,
   "id": "2bff8c1e",
   "metadata": {},
   "outputs": [
    {
     "name": "stdout",
     "output_type": "stream",
     "text": [
      "./new_train-shape=1.0-scale=0.06.pt\n"
     ]
    }
   ],
   "source": [
    "print(f_name)"
   ]
  },
  {
   "cell_type": "code",
   "execution_count": 16,
   "id": "7819c3d4",
   "metadata": {},
   "outputs": [],
   "source": [
    "# 清空缓存\n",
    "torch.cuda.empty_cache()\n",
    "del unet"
   ]
  }
 ],
 "metadata": {
  "kernelspec": {
   "display_name": "Python 3",
   "language": "python",
   "name": "python3"
  },
  "language_info": {
   "codemirror_mode": {
    "name": "ipython",
    "version": 3
   },
   "file_extension": ".py",
   "mimetype": "text/x-python",
   "name": "python",
   "nbconvert_exporter": "python",
   "pygments_lexer": "ipython3",
   "version": "3.9.21"
  }
 },
 "nbformat": 4,
 "nbformat_minor": 5
}
